{
 "cells": [
  {
   "cell_type": "markdown",
   "id": "8b36d5e5",
   "metadata": {},
   "source": [
    "# Disabled non-workers by type of disability and sex, age and sex, 2011 - GOA"
   ]
  },
  {
   "cell_type": "code",
   "execution_count": 1,
   "id": "9bf344d7",
   "metadata": {},
   "outputs": [],
   "source": [
    "import pandas as pd\n",
    "import numpy as np\n",
    "import matplotlib.pyplot as plt\n",
    "import requests\n",
    "import json\n",
    "import seaborn as sns"
   ]
  },
  {
   "cell_type": "code",
   "execution_count": 2,
   "id": "af5437b5",
   "metadata": {},
   "outputs": [],
   "source": [
    "res = requests.get('https://api.data.gov.in/resource/4514b289-b939-4589-bba9-d75d519e1c5d?api-key=579b464db66ec23bdd000001cdd3946e44ce4aad7209ff7b23ac571b&format=json')"
   ]
  },
  {
   "cell_type": "code",
   "execution_count": 3,
   "id": "fe4f3bfd",
   "metadata": {},
   "outputs": [],
   "source": [
    "df = pd.DataFrame(res.json()['records'])"
   ]
  },
  {
   "cell_type": "code",
   "execution_count": 60,
   "id": "66b6170c",
   "metadata": {},
   "outputs": [
    {
     "data": {
      "text/html": [
       "<div>\n",
       "<style scoped>\n",
       "    .dataframe tbody tr th:only-of-type {\n",
       "        vertical-align: middle;\n",
       "    }\n",
       "\n",
       "    .dataframe tbody tr th {\n",
       "        vertical-align: top;\n",
       "    }\n",
       "\n",
       "    .dataframe thead th {\n",
       "        text-align: right;\n",
       "    }\n",
       "</style>\n",
       "<table border=\"1\" class=\"dataframe\">\n",
       "  <thead>\n",
       "    <tr style=\"text-align: right;\">\n",
       "      <th></th>\n",
       "      <th>table_name</th>\n",
       "      <th>state_code</th>\n",
       "      <th>district_code</th>\n",
       "      <th>area_name</th>\n",
       "      <th>total__rural_urban</th>\n",
       "      <th>activity_of_non_worker</th>\n",
       "      <th>total_disabled_non_worker___persons</th>\n",
       "      <th>total_disabled_non_worker___male</th>\n",
       "      <th>total_disabled_non_worker___female</th>\n",
       "      <th>type_of_disability___in_seeing___persons</th>\n",
       "      <th>...</th>\n",
       "      <th>type_of_disability___mental_retardation___female</th>\n",
       "      <th>type_of_disability___mental_illness___persons</th>\n",
       "      <th>type_of_disability___mental_illness___male</th>\n",
       "      <th>type_of_disability___mental_illness___female</th>\n",
       "      <th>type_of_disability___any_other___persons</th>\n",
       "      <th>type_of_disability___any_other___male</th>\n",
       "      <th>type_of_disability___any_other___female</th>\n",
       "      <th>type_of_disability___multiple_disability___persons</th>\n",
       "      <th>type_of_disability___multiple_disability___male</th>\n",
       "      <th>type_of_disability___multiple_disability___female</th>\n",
       "    </tr>\n",
       "  </thead>\n",
       "  <tbody>\n",
       "    <tr>\n",
       "      <th>5</th>\n",
       "      <td>C2324</td>\n",
       "      <td>30</td>\n",
       "      <td>00</td>\n",
       "      <td>State - GOA (30)</td>\n",
       "      <td>Total</td>\n",
       "      <td>Rentier</td>\n",
       "      <td>156</td>\n",
       "      <td>114</td>\n",
       "      <td>42</td>\n",
       "      <td>33</td>\n",
       "      <td>...</td>\n",
       "      <td>0</td>\n",
       "      <td>3</td>\n",
       "      <td>2</td>\n",
       "      <td>1</td>\n",
       "      <td>20</td>\n",
       "      <td>13</td>\n",
       "      <td>7</td>\n",
       "      <td>4</td>\n",
       "      <td>4</td>\n",
       "      <td>0</td>\n",
       "    </tr>\n",
       "    <tr>\n",
       "      <th>6</th>\n",
       "      <td>C2324</td>\n",
       "      <td>30</td>\n",
       "      <td>00</td>\n",
       "      <td>State - GOA (30)</td>\n",
       "      <td>Total</td>\n",
       "      <td>Beggar, Vagrants,etc.</td>\n",
       "      <td>39</td>\n",
       "      <td>24</td>\n",
       "      <td>15</td>\n",
       "      <td>2</td>\n",
       "      <td>...</td>\n",
       "      <td>0</td>\n",
       "      <td>9</td>\n",
       "      <td>4</td>\n",
       "      <td>5</td>\n",
       "      <td>4</td>\n",
       "      <td>2</td>\n",
       "      <td>2</td>\n",
       "      <td>6</td>\n",
       "      <td>4</td>\n",
       "      <td>2</td>\n",
       "    </tr>\n",
       "    <tr>\n",
       "      <th>7</th>\n",
       "      <td>C2324</td>\n",
       "      <td>30</td>\n",
       "      <td>00</td>\n",
       "      <td>State - GOA (30)</td>\n",
       "      <td>Total</td>\n",
       "      <td>Others</td>\n",
       "      <td>1934</td>\n",
       "      <td>1035</td>\n",
       "      <td>899</td>\n",
       "      <td>248</td>\n",
       "      <td>...</td>\n",
       "      <td>32</td>\n",
       "      <td>133</td>\n",
       "      <td>85</td>\n",
       "      <td>48</td>\n",
       "      <td>395</td>\n",
       "      <td>180</td>\n",
       "      <td>215</td>\n",
       "      <td>127</td>\n",
       "      <td>72</td>\n",
       "      <td>55</td>\n",
       "    </tr>\n",
       "    <tr>\n",
       "      <th>8</th>\n",
       "      <td>C2324</td>\n",
       "      <td>30</td>\n",
       "      <td>00</td>\n",
       "      <td>State - GOA (30)</td>\n",
       "      <td>Rural</td>\n",
       "      <td>Total</td>\n",
       "      <td>10556</td>\n",
       "      <td>4607</td>\n",
       "      <td>5949</td>\n",
       "      <td>1649</td>\n",
       "      <td>...</td>\n",
       "      <td>339</td>\n",
       "      <td>674</td>\n",
       "      <td>339</td>\n",
       "      <td>335</td>\n",
       "      <td>1754</td>\n",
       "      <td>753</td>\n",
       "      <td>1001</td>\n",
       "      <td>1046</td>\n",
       "      <td>478</td>\n",
       "      <td>568</td>\n",
       "    </tr>\n",
       "    <tr>\n",
       "      <th>9</th>\n",
       "      <td>C2324</td>\n",
       "      <td>30</td>\n",
       "      <td>00</td>\n",
       "      <td>State - GOA (30)</td>\n",
       "      <td>Rural</td>\n",
       "      <td>Student</td>\n",
       "      <td>1878</td>\n",
       "      <td>1017</td>\n",
       "      <td>861</td>\n",
       "      <td>227</td>\n",
       "      <td>...</td>\n",
       "      <td>105</td>\n",
       "      <td>58</td>\n",
       "      <td>37</td>\n",
       "      <td>21</td>\n",
       "      <td>417</td>\n",
       "      <td>225</td>\n",
       "      <td>192</td>\n",
       "      <td>117</td>\n",
       "      <td>67</td>\n",
       "      <td>50</td>\n",
       "    </tr>\n",
       "  </tbody>\n",
       "</table>\n",
       "<p>5 rows × 33 columns</p>\n",
       "</div>"
      ],
      "text/plain": [
       "  table_name state_code district_code         area_name total__rural_urban  \\\n",
       "5      C2324         30            00  State - GOA (30)              Total   \n",
       "6      C2324         30            00  State - GOA (30)              Total   \n",
       "7      C2324         30            00  State - GOA (30)              Total   \n",
       "8      C2324         30            00  State - GOA (30)              Rural   \n",
       "9      C2324         30            00  State - GOA (30)              Rural   \n",
       "\n",
       "  activity_of_non_worker  total_disabled_non_worker___persons  \\\n",
       "5                Rentier                                  156   \n",
       "6  Beggar, Vagrants,etc.                                   39   \n",
       "7                 Others                                 1934   \n",
       "8                  Total                                10556   \n",
       "9                Student                                 1878   \n",
       "\n",
       "   total_disabled_non_worker___male  total_disabled_non_worker___female  \\\n",
       "5                               114                                  42   \n",
       "6                                24                                  15   \n",
       "7                              1035                                 899   \n",
       "8                              4607                                5949   \n",
       "9                              1017                                 861   \n",
       "\n",
       "   type_of_disability___in_seeing___persons  ...  \\\n",
       "5                                        33  ...   \n",
       "6                                         2  ...   \n",
       "7                                       248  ...   \n",
       "8                                      1649  ...   \n",
       "9                                       227  ...   \n",
       "\n",
       "   type_of_disability___mental_retardation___female  \\\n",
       "5                                                 0   \n",
       "6                                                 0   \n",
       "7                                                32   \n",
       "8                                               339   \n",
       "9                                               105   \n",
       "\n",
       "   type_of_disability___mental_illness___persons  \\\n",
       "5                                              3   \n",
       "6                                              9   \n",
       "7                                            133   \n",
       "8                                            674   \n",
       "9                                             58   \n",
       "\n",
       "   type_of_disability___mental_illness___male  \\\n",
       "5                                           2   \n",
       "6                                           4   \n",
       "7                                          85   \n",
       "8                                         339   \n",
       "9                                          37   \n",
       "\n",
       "   type_of_disability___mental_illness___female  \\\n",
       "5                                             1   \n",
       "6                                             5   \n",
       "7                                            48   \n",
       "8                                           335   \n",
       "9                                            21   \n",
       "\n",
       "   type_of_disability___any_other___persons  \\\n",
       "5                                        20   \n",
       "6                                         4   \n",
       "7                                       395   \n",
       "8                                      1754   \n",
       "9                                       417   \n",
       "\n",
       "   type_of_disability___any_other___male  \\\n",
       "5                                     13   \n",
       "6                                      2   \n",
       "7                                    180   \n",
       "8                                    753   \n",
       "9                                    225   \n",
       "\n",
       "  type_of_disability___any_other___female  \\\n",
       "5                                       7   \n",
       "6                                       2   \n",
       "7                                     215   \n",
       "8                                    1001   \n",
       "9                                     192   \n",
       "\n",
       "   type_of_disability___multiple_disability___persons  \\\n",
       "5                                                  4    \n",
       "6                                                  6    \n",
       "7                                                127    \n",
       "8                                               1046    \n",
       "9                                                117    \n",
       "\n",
       "   type_of_disability___multiple_disability___male  \\\n",
       "5                                                4   \n",
       "6                                                4   \n",
       "7                                               72   \n",
       "8                                              478   \n",
       "9                                               67   \n",
       "\n",
       "   type_of_disability___multiple_disability___female  \n",
       "5                                                  0  \n",
       "6                                                  2  \n",
       "7                                                 55  \n",
       "8                                                568  \n",
       "9                                                 50  \n",
       "\n",
       "[5 rows x 33 columns]"
      ]
     },
     "execution_count": 60,
     "metadata": {},
     "output_type": "execute_result"
    }
   ],
   "source": [
    "df.tail()"
   ]
  },
  {
   "cell_type": "code",
   "execution_count": 58,
   "id": "1a2ebc95",
   "metadata": {},
   "outputs": [
    {
     "data": {
      "text/plain": [
       "Index(['table_name', 'state_code', 'district_code', 'area_name',\n",
       "       'total__rural_urban', 'activity_of_non_worker',\n",
       "       'total_disabled_non_worker___persons',\n",
       "       'total_disabled_non_worker___male',\n",
       "       'total_disabled_non_worker___female',\n",
       "       'type_of_disability___in_seeing___persons',\n",
       "       'type_of_disability___in_seeing___male',\n",
       "       'type_of_disability___in_seeing___female',\n",
       "       'type_of_disability___in_hearing___persons',\n",
       "       'type_of_disability___in_hearing___male',\n",
       "       'type_of_disability___in_hearing___female',\n",
       "       'type_of_disability___in_speech___persons',\n",
       "       'type_of_disability___in_speech___male',\n",
       "       'type_of_disability___in_speech___female',\n",
       "       'type_of_disability___in_movement___persons',\n",
       "       'type_of_disability___in_movement___male',\n",
       "       'type_of_disability___in_movement___female',\n",
       "       'type_of_disability___mental_retardation___persons',\n",
       "       'type_of_disability___mental_retardation___male',\n",
       "       'type_of_disability___mental_retardation___female',\n",
       "       'type_of_disability___mental_illness___persons',\n",
       "       'type_of_disability___mental_illness___male',\n",
       "       'type_of_disability___mental_illness___female',\n",
       "       'type_of_disability___any_other___persons',\n",
       "       'type_of_disability___any_other___male',\n",
       "       'type_of_disability___any_other___female',\n",
       "       'type_of_disability___multiple_disability___persons',\n",
       "       'type_of_disability___multiple_disability___male',\n",
       "       'type_of_disability___multiple_disability___female'],\n",
       "      dtype='object')"
      ]
     },
     "execution_count": 58,
     "metadata": {},
     "output_type": "execute_result"
    }
   ],
   "source": [
    "df.columns"
   ]
  },
  {
   "cell_type": "code",
   "execution_count": 59,
   "id": "7b29ad20",
   "metadata": {},
   "outputs": [
    {
     "data": {
      "text/plain": [
       "total_disabled_non_worker___female\n",
       "15                                    1\n",
       "42                                    1\n",
       "857                                   1\n",
       "861                                   1\n",
       "899                                   1\n",
       "2080                                  1\n",
       "4164                                  1\n",
       "5193                                  1\n",
       "5949                                  1\n",
       "13250                                 1\n",
       "dtype: int64"
      ]
     },
     "execution_count": 59,
     "metadata": {},
     "output_type": "execute_result"
    }
   ],
   "source": [
    "df[['total_disabled_non_worker___female']].value_counts()"
   ]
  },
  {
   "cell_type": "code",
   "execution_count": 6,
   "id": "339961c8",
   "metadata": {},
   "outputs": [
    {
     "name": "stderr",
     "output_type": "stream",
     "text": [
      "/var/folders/mn/2fq53rh93k35kvpbj6_bh43c0000gn/T/ipykernel_1004/2262252625.py:6: SettingWithCopyWarning: \n",
      "A value is trying to be set on a copy of a slice from a DataFrame\n",
      "\n",
      "See the caveats in the documentation: https://pandas.pydata.org/pandas-docs/stable/user_guide/indexing.html#returning-a-view-versus-a-copy\n",
      "  total_disabled_non_workers[i] = int(total_disabled_non_workers[i])\n",
      "/var/folders/mn/2fq53rh93k35kvpbj6_bh43c0000gn/T/ipykernel_1004/2262252625.py:7: SettingWithCopyWarning: \n",
      "A value is trying to be set on a copy of a slice from a DataFrame\n",
      "\n",
      "See the caveats in the documentation: https://pandas.pydata.org/pandas-docs/stable/user_guide/indexing.html#returning-a-view-versus-a-copy\n",
      "  total_disabled_non_workers_male[i] = int(total_disabled_non_workers_male[i])\n",
      "/var/folders/mn/2fq53rh93k35kvpbj6_bh43c0000gn/T/ipykernel_1004/2262252625.py:8: SettingWithCopyWarning: \n",
      "A value is trying to be set on a copy of a slice from a DataFrame\n",
      "\n",
      "See the caveats in the documentation: https://pandas.pydata.org/pandas-docs/stable/user_guide/indexing.html#returning-a-view-versus-a-copy\n",
      "  total_disabled_non_workers_male[i] = int(total_disabled_non_workers_male[i])\n"
     ]
    }
   ],
   "source": [
    "total_disabled_non_workers = df.iloc[:,6]\n",
    "total_disabled_non_workers_male = df.iloc[:,7]\n",
    "total_disabled_non_workers_female = df.iloc[:,8]\n",
    "\n",
    "for i in range(len(total_disabled_non_workers)):\n",
    "    total_disabled_non_workers[i] = int(total_disabled_non_workers[i])\n",
    "    total_disabled_non_workers_male[i] = int(total_disabled_non_workers_male[i])\n",
    "    total_disabled_non_workers_male[i] = int(total_disabled_non_workers_male[i])\n",
    "    \n",
    "total_disabled_non_workers = total_disabled_non_workers.sum()\n",
    "total_disabled_non_workers_male = total_disabled_non_workers_male.sum()\n",
    "total_disabled_non_workers_female = total_disabled_non_workers_female.sum()\n",
    "    "
   ]
  },
  {
   "cell_type": "code",
   "execution_count": 43,
   "id": "57a40d07",
   "metadata": {},
   "outputs": [
    {
     "name": "stderr",
     "output_type": "stream",
     "text": [
      "/var/folders/mn/2fq53rh93k35kvpbj6_bh43c0000gn/T/ipykernel_1004/882069473.py:11: SettingWithCopyWarning: \n",
      "A value is trying to be set on a copy of a slice from a DataFrame\n",
      "\n",
      "See the caveats in the documentation: https://pandas.pydata.org/pandas-docs/stable/user_guide/indexing.html#returning-a-view-versus-a-copy\n",
      "  speech_male[i] = int(speech_male[i])\n",
      "/var/folders/mn/2fq53rh93k35kvpbj6_bh43c0000gn/T/ipykernel_1004/882069473.py:26: SettingWithCopyWarning: \n",
      "A value is trying to be set on a copy of a slice from a DataFrame\n",
      "\n",
      "See the caveats in the documentation: https://pandas.pydata.org/pandas-docs/stable/user_guide/indexing.html#returning-a-view-versus-a-copy\n",
      "  speech_female[i] = int(speech_female[i])\n",
      "/var/folders/mn/2fq53rh93k35kvpbj6_bh43c0000gn/T/ipykernel_1004/882069473.py:27: SettingWithCopyWarning: \n",
      "A value is trying to be set on a copy of a slice from a DataFrame\n",
      "\n",
      "See the caveats in the documentation: https://pandas.pydata.org/pandas-docs/stable/user_guide/indexing.html#returning-a-view-versus-a-copy\n",
      "  mental_retardation_female[i] = int(mental_retardation_female[i])\n",
      "/var/folders/mn/2fq53rh93k35kvpbj6_bh43c0000gn/T/ipykernel_1004/882069473.py:28: SettingWithCopyWarning: \n",
      "A value is trying to be set on a copy of a slice from a DataFrame\n",
      "\n",
      "See the caveats in the documentation: https://pandas.pydata.org/pandas-docs/stable/user_guide/indexing.html#returning-a-view-versus-a-copy\n",
      "  multiple_disability_female[i] = int(multiple_disability_female[i])\n"
     ]
    }
   ],
   "source": [
    "seeing_male = df.iloc[:,10].sum()\n",
    "hearing_male = df.iloc[:,13].sum()\n",
    "speech_male = df.iloc[:,16]\n",
    "movement_male = df.iloc[:,19].sum()\n",
    "mental_retardation_male = df.iloc[:,22].sum()\n",
    "mental_illness_male = df.iloc[:,25].sum()\n",
    "any_other_disability_male = df.iloc[:,28].sum()\n",
    "multiple_disability_male = df.iloc[:,31].sum()\n",
    "\n",
    "for i in range(len(speech_male)):\n",
    "    speech_male[i] = int(speech_male[i])\n",
    "    \n",
    "speech_male = speech_male.sum()\n",
    "\n",
    "\n",
    "seeing_female = df.iloc[:,11].sum()\n",
    "hearing_female = df.iloc[:,14].sum()\n",
    "speech_female = df.iloc[:,16]\n",
    "movement_female = df.iloc[:,20].sum()\n",
    "mental_retardation_female = df.iloc[:,23]\n",
    "mental_illness_female = df.iloc[:,26].sum()\n",
    "any_other_disability_female = df.iloc[:,29].sum()\n",
    "multiple_disability_female = df.iloc[:,32]\n",
    "\n",
    "for i in range(len(speech_female)):\n",
    "    speech_female[i] = int(speech_female[i])\n",
    "    mental_retardation_female[i] = int(mental_retardation_female[i])\n",
    "    multiple_disability_female[i] = int(multiple_disability_female[i])\n",
    "    \n",
    "\n",
    "speech_female = speech_female.sum()\n",
    "mental_retardation_female = mental_retardation_female.sum()\n",
    "multiple_disability_female = multiple_disability_female.sum()\n",
    "    "
   ]
  },
  {
   "cell_type": "markdown",
   "id": "76e3a0a5",
   "metadata": {},
   "source": [
    "# Plotting the disability bar chart among male and female persons"
   ]
  },
  {
   "cell_type": "code",
   "execution_count": 44,
   "id": "d59f5eef",
   "metadata": {},
   "outputs": [],
   "source": [
    "disability_types = ['seeing','hearing','speech','movement','mental_retardation','mental_illness','others','multiple_disability']"
   ]
  },
  {
   "cell_type": "code",
   "execution_count": 45,
   "id": "b28feb67",
   "metadata": {},
   "outputs": [],
   "source": [
    "disability_male = [seeing_male,hearing_male,speech_male,movement_male,mental_retardation_male,mental_illness_male,any_other_disability_male,multiple_disability_male]\n",
    "disability_female = [seeing_female,hearing_female,speech_female,movement_female,mental_retardation_female,mental_illness_female,any_other_disability_female,multiple_disability_female]"
   ]
  },
  {
   "cell_type": "code",
   "execution_count": 46,
   "id": "f13884dd",
   "metadata": {
    "scrolled": true
   },
   "outputs": [
    {
     "data": {
      "image/png": "[encoded data removed]",
      "text/plain": [
       "<Figure size 1080x720 with 1 Axes>"
      ]
     },
     "metadata": {},
     "output_type": "display_data"
    }
   ],
   "source": [
    "plt.style.use('ggplot')\n",
    "plt.figure(figsize=(15,10))\n",
    "plt.title('Type of disabilites among disabled non-workers by gender')\n",
    "plt.xlabel('Type of disabilites',fontsize=15)\n",
    "plt.ylabel('Total no. of persons',fontsize=15)\n",
    "width = 0.3\n",
    "bar1 = np.arange(len(disability_types))\n",
    "bar2 = [i+width for i in bar1]\n",
    "plt.bar(bar1,disability_male,width,edgecolor='black',label='Male')\n",
    "plt.bar(bar2,disability_female,width,edgecolor='black',label='Female')\n",
    "plt.xticks(bar1+width/2,disability_types,rotation = 50,fontsize=15)\n",
    "plt.legend()\n",
    "plt.show()"
   ]
  },
  {
   "cell_type": "markdown",
   "id": "4cd7d24c",
   "metadata": {},
   "source": [
    "# Inference from the bar chart "
   ]
  },
  {
   "cell_type": "markdown",
   "id": "bffcd4cb",
   "metadata": {},
   "source": [
    "In the above bar chart obtained,it is noticeable that except the disabilites in speech,movement,mental retardation,mental illness,others and nultiple disability other two types of disabilites seeing and hearing in male and female has uneven kind of distribution.It is quite significant from the above data that majority of seeing and hearing disability has a higher chances of occuring in female persons as compared to male.There is a higher spike in the bar graphs in case of female coloured blue than males."
   ]
  },
  {
   "cell_type": "code",
   "execution_count": 47,
   "id": "ce924a8f",
   "metadata": {},
   "outputs": [
    {
     "data": {
      "image/png": "[encoded data removed]",
      "text/plain": [
       "<Figure size 432x288 with 1 Axes>"
      ]
     },
     "metadata": {},
     "output_type": "display_data"
    }
   ],
   "source": [
    "total_seeing_disability = seeing_male + seeing_female\n",
    "total_hearing_disability = hearing_male + hearing_female\n",
    "total_speech_disability = speech_male + speech_female\n",
    "total_movement_disability = movement_male + movement_female\n",
    "total_mental_illness_disability = mental_illness_male + mental_illness_female\n",
    "total_mental_retardation_disability = mental_retardation_male + mental_retardation_female\n",
    "total_multiple_disability_disability = multiple_disability_male + multiple_disability_female\n",
    "total_any_other_disability = any_other_disability_male + any_other_disability_female\n",
    "\n",
    "total_disabilities = [ total_seeing_disability,\n",
    "                       total_hearing_disability,\n",
    "                       total_speech_disability,\n",
    "                       total_movement_disability,\n",
    "                       total_mental_illness_disability,\n",
    "                       total_mental_retardation_disability,\n",
    "                       total_multiple_disability_disability,\n",
    "                       total_any_other_disability\n",
    "                     ]\n",
    "labels = [ 'seeing',\n",
    "           'hearing',\n",
    "           'speech',\n",
    "           'movement',\n",
    "           'mental_illness',\n",
    "           'mental_retardation',\n",
    "           'multiple_disability',\n",
    "           'others'\n",
    "         ]\n",
    "plt.pie(total_disabilities, labels = labels,autopct = '%0.1f%%',radius = 2)\n",
    "plt.legend(loc = 0)\n",
    "plt.show()"
   ]
  },
  {
   "cell_type": "code",
   "execution_count": 56,
   "id": "2ad1c612",
   "metadata": {},
   "outputs": [
    {
     "name": "stdout",
     "output_type": "stream",
     "text": [
      "Requirement already satisfied: outlier_utils in /Library/Frameworks/Python.framework/Versions/3.10/lib/python3.10/site-packages (0.0.3)\n",
      "\n",
      "\u001b[1m[\u001b[0m\u001b[34;49mnotice\u001b[0m\u001b[1;39;49m]\u001b[0m\u001b[39;49m A new release of pip is available: \u001b[0m\u001b[31;49m23.1.2\u001b[0m\u001b[39;49m -> \u001b[0m\u001b[32;49m23.2.1\u001b[0m\n",
      "\u001b[1m[\u001b[0m\u001b[34;49mnotice\u001b[0m\u001b[1;39;49m]\u001b[0m\u001b[39;49m To update, run: \u001b[0m\u001b[32;49mpip install --upgrade pip\u001b[0m\n"
     ]
    }
   ],
   "source": [
    "!pip install outlier_utils"
   ]
  },
  {
   "cell_type": "markdown",
   "id": "8fbbc9f2",
   "metadata": {},
   "source": [
    "# Some important metrices observed from the data "
   ]
  },
  {
   "cell_type": "code",
   "execution_count": 8,
   "id": "3b347804",
   "metadata": {},
   "outputs": [
    {
     "data": {
      "text/plain": [
       "26138"
      ]
     },
     "execution_count": 8,
     "metadata": {},
     "output_type": "execute_result"
    }
   ],
   "source": [
    "total_disabled_non_workers_male"
   ]
  },
  {
   "cell_type": "code",
   "execution_count": 9,
   "id": "5596c182",
   "metadata": {},
   "outputs": [
    {
     "data": {
      "text/plain": [
       "33310"
      ]
     },
     "execution_count": 9,
     "metadata": {},
     "output_type": "execute_result"
    }
   ],
   "source": [
    "total_disabled_non_workers_female"
   ]
  },
  {
   "cell_type": "code",
   "execution_count": 10,
   "id": "94a984b6",
   "metadata": {},
   "outputs": [],
   "source": [
    "male_disability_ratio = total_disabled_non_workers_male/total_disabled_non_workers\n",
    "female_disability_ratio = total_disabled_non_workers_female/total_disabled_non_workers\n",
    "male_female_ratio = total_disabled_non_workers_male/total_disabled_non_workers_female"
   ]
  },
  {
   "cell_type": "code",
   "execution_count": 11,
   "id": "a2158ed5",
   "metadata": {},
   "outputs": [
    {
     "data": {
      "text/plain": [
       "0.4396783743776073"
      ]
     },
     "execution_count": 11,
     "metadata": {},
     "output_type": "execute_result"
    }
   ],
   "source": [
    "male_disability_ratio"
   ]
  },
  {
   "cell_type": "code",
   "execution_count": 12,
   "id": "9a9957a1",
   "metadata": {},
   "outputs": [
    {
     "data": {
      "text/plain": [
       "0.5603216256223926"
      ]
     },
     "execution_count": 12,
     "metadata": {},
     "output_type": "execute_result"
    }
   ],
   "source": [
    "female_disability_ratio"
   ]
  },
  {
   "cell_type": "code",
   "execution_count": 13,
   "id": "d1dea5fb",
   "metadata": {},
   "outputs": [
    {
     "data": {
      "text/plain": [
       "0.7846892824977484"
      ]
     },
     "execution_count": 13,
     "metadata": {},
     "output_type": "execute_result"
    }
   ],
   "source": [
    "male_female_ratio"
   ]
  },
  {
   "cell_type": "markdown",
   "id": "bb717702",
   "metadata": {},
   "source": [
    "From the male_disability_ratio and female_disability_ratio it is observed that females have higher chances of progressing disabilites than in case of male persons."
   ]
  },
  {
   "cell_type": "code",
   "execution_count": 14,
   "id": "13a75af1",
   "metadata": {},
   "outputs": [
    {
     "data": {
      "text/plain": [
       "<matplotlib.legend.Legend at 0x7fe0ac4b59d0>"
      ]
     },
     "execution_count": 14,
     "metadata": {},
     "output_type": "execute_result"
    },
    {
     "data": {
      "image/png": "[encoded data removed]",
      "text/plain": [
       "<Figure size 432x288 with 1 Axes>"
      ]
     },
     "metadata": {
      "needs_background": "light"
     },
     "output_type": "display_data"
    }
   ],
   "source": [
    "plt.scatter(x=df[['total_disabled_non_worker___persons']],y=df[['total_disabled_non_worker___male']],label='Male')\n",
    "plt.scatter(x=df[['total_disabled_non_worker___persons']],y=df[['total_disabled_non_worker___female']],label='Female')\n",
    "plt.legend()"
   ]
  },
  {
   "cell_type": "code",
   "execution_count": 15,
   "id": "a1a5eac0",
   "metadata": {},
   "outputs": [],
   "source": [
    "from scipy.stats import f_oneway"
   ]
  },
  {
   "cell_type": "code",
   "execution_count": 16,
   "id": "7dad9b08",
   "metadata": {},
   "outputs": [],
   "source": [
    "anova_seeing = f_oneway(df['type_of_disability___in_seeing___male'],df['type_of_disability___in_seeing___female'])"
   ]
  },
  {
   "cell_type": "code",
   "execution_count": 17,
   "id": "23b22d5a",
   "metadata": {},
   "outputs": [],
   "source": [
    "anova_hearing = f_oneway(df['type_of_disability___in_hearing___male'],df['type_of_disability___in_hearing___female'])"
   ]
  },
  {
   "cell_type": "code",
   "execution_count": 18,
   "id": "f7ea07eb",
   "metadata": {},
   "outputs": [],
   "source": [
    "anova_speech = f_oneway(df['type_of_disability___in_speech___male'],df['type_of_disability___in_speech___female'])"
   ]
  },
  {
   "cell_type": "code",
   "execution_count": 19,
   "id": "c41eb365",
   "metadata": {},
   "outputs": [],
   "source": [
    "anova_movement = f_oneway(df['type_of_disability___in_movement___male'],df['type_of_disability___in_movement___female'])"
   ]
  },
  {
   "cell_type": "code",
   "execution_count": 20,
   "id": "e7322955",
   "metadata": {},
   "outputs": [],
   "source": [
    "anova_mental_retardation = f_oneway(df['type_of_disability___mental_retardation___male'],df['type_of_disability___mental_retardation___female'])"
   ]
  },
  {
   "cell_type": "code",
   "execution_count": 21,
   "id": "873721a1",
   "metadata": {},
   "outputs": [],
   "source": [
    "anova_mental_illness = f_oneway(df['type_of_disability___mental_illness___male'],df['type_of_disability___mental_illness___female'])"
   ]
  },
  {
   "cell_type": "code",
   "execution_count": 22,
   "id": "c54f21c8",
   "metadata": {},
   "outputs": [
    {
     "data": {
      "text/plain": [
       "(F_onewayResult(statistic=0.9306460049070704, pvalue=0.34747799695145176),\n",
       " F_onewayResult(statistic=0.7497544465175949, pvalue=0.39794868635220126),\n",
       " F_onewayResult(statistic=0.5460819723457263, pvalue=0.46945047708980914),\n",
       " F_onewayResult(statistic=0.022059279439421264, pvalue=0.8835807579535783),\n",
       " F_onewayResult(statistic=0.012320530882552522, pvalue=0.9128463317890382),\n",
       " F_onewayResult(statistic=0.0015147900680403642, pvalue=0.969382354572429))"
      ]
     },
     "execution_count": 22,
     "metadata": {},
     "output_type": "execute_result"
    }
   ],
   "source": [
    "anova_seeing,anova_hearing,anova_speech,anova_movement,anova_mental_retardation,anova_mental_illness"
   ]
  },
  {
   "cell_type": "code",
   "execution_count": 23,
   "id": "d295bfde",
   "metadata": {},
   "outputs": [],
   "source": [
    "from scipy.stats import pearsonr"
   ]
  },
  {
   "cell_type": "code",
   "execution_count": 44,
   "id": "931e977d",
   "metadata": {},
   "outputs": [],
   "source": [
    "corr, _ = pearsonr(df['total_disabled_non_worker___male'],df['total_disabled_non_worker___female'])"
   ]
  },
  {
   "cell_type": "code",
   "execution_count": 45,
   "id": "efda6c8b",
   "metadata": {},
   "outputs": [
    {
     "data": {
      "text/plain": [
       "0.9477864384235251"
      ]
     },
     "execution_count": 45,
     "metadata": {},
     "output_type": "execute_result"
    }
   ],
   "source": [
    "corr"
   ]
  },
  {
   "cell_type": "code",
   "execution_count": 49,
   "id": "928e1c5b",
   "metadata": {},
   "outputs": [
    {
     "name": "stderr",
     "output_type": "stream",
     "text": [
      "/opt/anaconda3/lib/python3.9/site-packages/seaborn/_decorators.py:36: FutureWarning: Pass the following variables as keyword args: x, y. From version 0.12, the only valid positional argument will be `data`, and passing other arguments without an explicit keyword will result in an error or misinterpretation.\n",
      "  warnings.warn(\n"
     ]
    },
    {
     "data": {
      "text/plain": [
       "<AxesSubplot:xlabel='total_disabled_non_worker___persons', ylabel='type_of_disability___in_seeing___persons'>"
      ]
     },
     "execution_count": 49,
     "metadata": {},
     "output_type": "execute_result"
    },
    {
     "data": {
      "image/png": "[encoded data removed]",
      "text/plain": [
       "<Figure size 432x288 with 1 Axes>"
      ]
     },
     "metadata": {},
     "output_type": "display_data"
    }
   ],
   "source": [
    "sns.scatterplot(df['total_disabled_non_worker___persons'],df['type_of_disability___in_seeing___persons'],data = df)"
   ]
  },
  {
   "cell_type": "code",
   "execution_count": null,
   "id": "3c812138",
   "metadata": {},
   "outputs": [],
   "source": []
  }
 ],
 "metadata": {
  "kernelspec": {
   "display_name": "Python 3 (ipykernel)",
   "language": "python",
   "name": "python3"
  },
  "language_info": {
   "codemirror_mode": {
    "name": "ipython",
    "version": 3
   },
   "file_extension": ".py",
   "mimetype": "text/x-python",
   "name": "python",
   "nbconvert_exporter": "python",
   "pygments_lexer": "ipython3",
   "version": "3.9.7"
  }
 },
 "nbformat": 4,
 "nbformat_minor": 5
}
